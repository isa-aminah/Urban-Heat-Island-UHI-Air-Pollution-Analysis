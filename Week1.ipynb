{
 "cells": [
  {
   "cell_type": "code",
   "execution_count": 16,
   "id": "9045d427-f52a-4319-89c0-9a0cb1dba4a6",
   "metadata": {},
   "outputs": [],
   "source": [
    "import pandas as pd\n",
    "\n",
    "# Load the uploaded dataset\n",
    "file_path = \"preprocessed_air_quality.csv\"\n",
    "df = pd.read_csv(file_path)"
   ]
  },
  {
   "cell_type": "code",
   "execution_count": 17,
   "id": "24007696-b4dc-4609-be8d-9d0d8586a36d",
   "metadata": {},
   "outputs": [
    {
     "data": {
      "text/plain": [
       "(        Date         City Country  AQI  PM2.5 (µg/m³)  PM10 (µg/m³)  \\\n",
       " 0 2024-01-01     New York     USA   38          120.0         182.9   \n",
       " 1 2024-01-01  Los Angeles     USA  280           38.4          46.9   \n",
       " 2 2024-01-01       London      UK  117          168.1          34.3   \n",
       " 3 2024-01-01      Beijing   China  197           96.8          35.4   \n",
       " 4 2024-01-01        Delhi   India  187           76.2         226.8   \n",
       " \n",
       "    NO2 (ppb)  SO2 (ppb)  CO (ppm)  O3 (ppb)  Temperature (°C)  Humidity (%)  \\\n",
       " 0       24.3       26.0      9.10     153.3              18.6            40   \n",
       " 1       41.8       34.7      3.78     190.7              -2.2            59   \n",
       " 2       81.5        8.2      3.67     105.4              36.3            62   \n",
       " 3       18.5       39.4      9.51      92.8              29.9            32   \n",
       " 4       46.9       17.2      1.02      68.4               9.9            55   \n",
       " \n",
       "    Wind Speed (m/s)  Year  Month  Day                AQI_Level  \n",
       " 0              13.2  2024      1    1                     Good  \n",
       " 1               9.5  2024      1    1           Very Unhealthy  \n",
       " 2               3.4  2024      1    1  Unhealthy for Sensitive  \n",
       " 3               1.8  2024      1    1                Unhealthy  \n",
       " 4               3.3  2024      1    1                Unhealthy  ,\n",
       "                        Date      City Country          AQI  PM2.5 (µg/m³)  \\\n",
       " count                  3660      3660    3660  3660.000000    3660.000000   \n",
       " unique                  NaN        10       9          NaN            NaN   \n",
       " top                     NaN  New York     USA          NaN            NaN   \n",
       " freq                    NaN       366     732          NaN            NaN   \n",
       " mean    2024-07-01 12:00:00       NaN     NaN   164.642077     126.380574   \n",
       " \n",
       "         PM10 (µg/m³)   NO2 (ppb)    SO2 (ppb)     CO (ppm)     O3 (ppb)  \\\n",
       " count    3660.000000  3660.00000  3660.000000  3660.000000  3660.000000   \n",
       " unique           NaN         NaN          NaN          NaN          NaN   \n",
       " top              NaN         NaN          NaN          NaN          NaN   \n",
       " freq             NaN         NaN          NaN          NaN          NaN   \n",
       " mean      154.785956    52.96071    25.940328     5.023842   105.325929   \n",
       " \n",
       "         Temperature (°C)  Humidity (%)  Wind Speed (m/s)    Year        Month  \\\n",
       " count        3660.000000   3660.000000       3660.000000  3660.0  3660.000000   \n",
       " unique               NaN           NaN               NaN     NaN          NaN   \n",
       " top                  NaN           NaN               NaN     NaN          NaN   \n",
       " freq                 NaN           NaN               NaN     NaN          NaN   \n",
       " mean           15.061913     50.657104          7.788907  2024.0     6.513661   \n",
       " \n",
       "                 Day       AQI_Level  \n",
       " count   3660.000000            3660  \n",
       " unique          NaN               5  \n",
       " top             NaN  Very Unhealthy  \n",
       " freq            NaN            1360  \n",
       " mean      15.756831             NaN  )"
      ]
     },
     "execution_count": 17,
     "metadata": {},
     "output_type": "execute_result"
    }
   ],
   "source": [
    "# Data Preprocessing \n",
    "\n",
    "# Convert Date to datetime format\n",
    "if 'Date' in df.columns:\n",
    "    df['Date'] = pd.to_datetime(df['Date'], errors='coerce')\n",
    "\n",
    "# Handle missing values\n",
    "df = df.fillna(df.median(numeric_only=True))\n",
    "\n",
    "# Feature Engineering\n",
    "if 'Date' in df.columns:\n",
    "    df['Year'] = df['Date'].dt.year\n",
    "    df['Month'] = df['Date'].dt.month\n",
    "    df['Day'] = df['Date'].dt.day\n",
    "\n",
    "# Categorize AQI into levels if AQI column exists\n",
    "def categorize_aqi(aqi):\n",
    "    if aqi <= 50:\n",
    "        return 'Good'\n",
    "    elif aqi <= 100:\n",
    "        return 'Moderate'\n",
    "    elif aqi <= 150:\n",
    "        return 'Unhealthy for Sensitive'\n",
    "    elif aqi <= 200:\n",
    "        return 'Unhealthy'\n",
    "    elif aqi <= 300:\n",
    "        return 'Very Unhealthy'\n",
    "    else:\n",
    "        return 'Hazardous'\n",
    "\n",
    "if 'AQI' in df.columns:\n",
    "    df['AQI_Level'] = df['AQI'].apply(categorize_aqi)\n",
    "\n",
    "# Summary statistics after preprocessing\n",
    "summary_stats = df.describe(include='all')\n",
    "\n",
    "# Show first few rows and summary\n",
    "df.head(), summary_stats.head()"
   ]
  }
 ],
 "metadata": {
  "kernelspec": {
   "display_name": "Python 3 (ipykernel)",
   "language": "python",
   "name": "python3"
  },
  "language_info": {
   "codemirror_mode": {
    "name": "ipython",
    "version": 3
   },
   "file_extension": ".py",
   "mimetype": "text/x-python",
   "name": "python",
   "nbconvert_exporter": "python",
   "pygments_lexer": "ipython3",
   "version": "3.12.7"
  }
 },
 "nbformat": 4,
 "nbformat_minor": 5
}
